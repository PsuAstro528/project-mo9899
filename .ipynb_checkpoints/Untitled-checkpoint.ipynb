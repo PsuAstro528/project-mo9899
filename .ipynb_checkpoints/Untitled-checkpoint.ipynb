{
 "cells": [
  {
   "cell_type": "code",
   "execution_count": 1,
   "id": "9dbdc87c",
   "metadata": {},
   "outputs": [],
   "source": [
    "\n",
    "read = open(\"Absorption Lines.txt\", 'r')\n",
    "i = 0\n",
    "\n",
    "wavelengths = []\n",
    "for line in read:\n",
    "    \n",
    "    wavelengths.append(line.split()[0])\n",
    "\n",
    "print(wavelengths)"
   ]
  },
  {
   "cell_type": "code",
   "execution_count": null,
   "id": "779ee519",
   "metadata": {},
   "outputs": [],
   "source": []
  }
 ],
 "metadata": {
  "kernelspec": {
   "display_name": "Python 3 (ipykernel)",
   "language": "python",
   "name": "python3"
  },
  "language_info": {
   "codemirror_mode": {
    "name": "ipython",
    "version": 3
   },
   "file_extension": ".py",
   "mimetype": "text/x-python",
   "name": "python",
   "nbconvert_exporter": "python",
   "pygments_lexer": "ipython3",
   "version": "3.9.6"
  }
 },
 "nbformat": 4,
 "nbformat_minor": 5
}
